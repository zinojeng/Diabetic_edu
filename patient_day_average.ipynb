{
  "nbformat": 4,
  "nbformat_minor": 0,
  "metadata": {
    "colab": {
      "private_outputs": true,
      "provenance": [],
      "authorship_tag": "ABX9TyNu+Z5Zr98aM4t29eQ43noy",
      "include_colab_link": true
    },
    "kernelspec": {
      "name": "python3",
      "display_name": "Python 3"
    },
    "language_info": {
      "name": "python"
    }
  },
  "cells": [
    {
      "cell_type": "markdown",
      "metadata": {
        "id": "view-in-github",
        "colab_type": "text"
      },
      "source": [
        "<a href=\"https://colab.research.google.com/github/zinojeng/Diabetic_edu/blob/main/patient_day_average.ipynb\" target=\"_parent\"><img src=\"https://colab.research.google.com/assets/colab-badge.svg\" alt=\"Open In Colab\"/></a>"
      ]
    },
    {
      "cell_type": "code",
      "execution_count": null,
      "metadata": {
        "id": "bP3JpA4MH8w6"
      },
      "outputs": [],
      "source": [
        "# 假設血糖測量數據的結構是一個字典，鍵是日期，值是那一天的血糖測量值列表\n",
        "blood_sugar_measurements = {\n",
        "    '2023-03-01': [100, 200],\n",
        "    '2023-03-02': [150],\n",
        "    '2023-03-03': [100, 200, 300]\n",
        "}"
      ]
    },
    {
      "cell_type": "code",
      "source": [
        "def calculate_patient_day_average(measurements):\n",
        "    daily_averages = []  # 存儲每天的平均血糖值\n",
        "\n",
        "    # 遍歷每一天的測量值\n",
        "    for day_measurements in measurements.values():\n",
        "        # 計算當天的平均血糖值，並添加到列表中\n",
        "        daily_average = sum(day_measurements) / len(day_measurements)\n",
        "        daily_averages.append(daily_average)\n",
        "\n",
        "    # 計算所有天的平均血糖值\n",
        "    patient_day_average = sum(daily_averages) / len(daily_averages)\n",
        "    return patient_day_average"
      ],
      "metadata": {
        "id": "rt4MEIcYIX0p"
      },
      "execution_count": null,
      "outputs": []
    },
    {
      "cell_type": "code",
      "source": [
        "average = calculate_patient_day_average(blood_sugar_measurements)\n",
        "print(f\"Patient-day average is: {average} mg/dL\")"
      ],
      "metadata": {
        "id": "EYenI7ZgIabk"
      },
      "execution_count": null,
      "outputs": []
    }
  ]
}